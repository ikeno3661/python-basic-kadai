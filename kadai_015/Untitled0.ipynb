{
  "nbformat": 4,
  "nbformat_minor": 0,
  "metadata": {
    "colab": {
      "provenance": []
    },
    "kernelspec": {
      "name": "python3",
      "display_name": "Python 3"
    },
    "language_info": {
      "name": "python"
    }
  },
  "cells": [
    {
      "cell_type": "code",
      "execution_count": 2,
      "metadata": {
        "colab": {
          "base_uri": "https://localhost:8080/"
        },
        "id": "0x4V4_SUmjWD",
        "outputId": "73828554-08c2-42fa-c71d-065c7cf59cc1"
      },
      "outputs": [
        {
          "output_type": "stream",
          "name": "stdout",
          "text": [
            "name: tanaka\n",
            "age: 20\n"
          ]
        }
      ],
      "source": [
        "class Human:\n",
        "  # コンストラクタを定義する\n",
        "  def __init__(self, name, age):\n",
        "    self.name = name\n",
        "    self.age = age\n",
        "\n",
        "  def printinfo(self):\n",
        "    print(\"name: \" + self.name)\n",
        "    print(\"age: \" + str(self.age))\n",
        "\n",
        "sr = Human(\"tanaka\", 20)\n",
        "sr.printinfo()"
      ]
    }
  ]
}