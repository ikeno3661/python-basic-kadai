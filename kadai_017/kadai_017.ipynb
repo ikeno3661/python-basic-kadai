{
  "nbformat": 4,
  "nbformat_minor": 0,
  "metadata": {
    "colab": {
      "provenance": []
    },
    "kernelspec": {
      "name": "python3",
      "display_name": "Python 3"
    },
    "language_info": {
      "name": "python"
    }
  },
  "cells": [
    {
      "cell_type": "code",
      "execution_count": 1,
      "metadata": {
        "colab": {
          "base_uri": "https://localhost:8080/"
        },
        "id": "Dy9mdaoFsOjd",
        "outputId": "97df4465-666e-49fa-9123-47c51baa51c0"
      },
      "outputs": [
        {
          "output_type": "stream",
          "name": "stdout",
          "text": [
            "tanaka is adult\n",
            "suzuki is not adult\n"
          ]
        }
      ],
      "source": [
        "class Human:\n",
        "  def __init__(self, name, age):\n",
        "    self.name = name\n",
        "    self.age = age\n",
        "\n",
        "  def chech_adult(self):\n",
        "    if self.age >= 20:\n",
        "      print(f'{self.name} is adult')\n",
        "    else:\n",
        "      print(f'{self.name} is not adult')\n",
        "\n",
        "human1 = Human(\"tanaka\", 28)\n",
        "human2 = Human(\"suzuki\", 15)\n",
        "human_list = [human1, human2]\n",
        "\n",
        "for human in human_list:\n",
        "  human.chech_adult()"
      ]
    }
  ]
}