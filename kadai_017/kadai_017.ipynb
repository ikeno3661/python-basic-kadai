{
  "nbformat": 4,
  "nbformat_minor": 0,
  "metadata": {
    "colab": {
      "provenance": []
    },
    "kernelspec": {
      "name": "python3",
      "display_name": "Python 3"
    },
    "language_info": {
      "name": "python"
    }
  },
  "cells": [
    {
      "cell_type": "code",
      "execution_count": 3,
      "metadata": {
        "colab": {
          "base_uri": "https://localhost:8080/"
        },
        "id": "Dy9mdaoFsOjd",
        "outputId": "f73fe311-a924-4549-ba42-3090f1e6c51b"
      },
      "outputs": [
        {
          "output_type": "stream",
          "name": "stdout",
          "text": [
            "tanaka is adult\n",
            "suzuki is not adult\n",
            "takada is adult\n"
          ]
        }
      ],
      "source": [
        "class Human:\n",
        "  def __init__(self, name, age):\n",
        "    self.name = name\n",
        "    self.age = age\n",
        "\n",
        "  def check_adult(self):\n",
        "    if self.age >= 20:\n",
        "      print(f'{self.name} is adult')\n",
        "    else:\n",
        "      print(f'{self.name} is not adult')\n",
        "\n",
        "human1 = Human(\"tanaka\", 28)\n",
        "human2 = Human(\"suzuki\", 15)\n",
        "human3 = Human(\"takada\", 28)\n",
        "human_list = [human1, human2, human3]\n",
        "\n",
        "for human in human_list:\n",
        "  human.check_adult()"
      ]
    }
  ]
}