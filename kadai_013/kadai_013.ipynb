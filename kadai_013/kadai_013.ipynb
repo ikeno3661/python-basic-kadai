{
  "nbformat": 4,
  "nbformat_minor": 0,
  "metadata": {
    "colab": {
      "provenance": []
    },
    "kernelspec": {
      "name": "python3",
      "display_name": "Python 3"
    },
    "language_info": {
      "name": "python"
    }
  },
  "cells": [
    {
      "cell_type": "code",
      "execution_count": 3,
      "metadata": {
        "colab": {
          "base_uri": "https://localhost:8080/"
        },
        "id": "QZG0e717BGOo",
        "outputId": "116c55f4-9f74-426e-a84c-46d58a4e6693"
      },
      "outputs": [
        {
          "output_type": "execute_result",
          "data": {
            "text/plain": [
              "110.0"
            ]
          },
          "metadata": {},
          "execution_count": 3
        }
      ],
      "source": [
        "def calc_tax(price, tax_rate):\n",
        "    return price + price * tax_rate/100\n",
        "\n",
        "calc_tax(100, 10)\n",
        "\n"
      ]
    }
  ]
}