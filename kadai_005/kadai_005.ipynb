{
  "nbformat": 4,
  "nbformat_minor": 0,
  "metadata": {
    "colab": {
      "provenance": []
    },
    "kernelspec": {
      "name": "python3",
      "display_name": "Python 3"
    },
    "language_info": {
      "name": "python"
    }
  },
  "cells": [
    {
      "cell_type": "code",
      "execution_count": 4,
      "metadata": {
        "colab": {
          "base_uri": "https://localhost:8080/"
        },
        "id": "3itI0GRy2JNw",
        "outputId": "aac47e29-2618-417d-97fa-233292415afa"
      },
      "outputs": [
        {
          "output_type": "stream",
          "name": "stdout",
          "text": [
            "75.0cm2\n"
          ]
        }
      ],
      "source": [
        "upper_length = 10\n",
        "lower_length = 20\n",
        "height = 5\n",
        "\n",
        "surface_area = (upper_length + lower_length) * height / 2\n",
        "print(str(surface_area) + \"cm2\")"
      ]
    }
  ]
}