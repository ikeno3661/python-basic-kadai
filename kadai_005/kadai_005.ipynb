{
  "nbformat": 4,
  "nbformat_minor": 0,
  "metadata": {
    "colab": {
      "provenance": []
    },
    "kernelspec": {
      "name": "python3",
      "display_name": "Python 3"
    },
    "language_info": {
      "name": "python"
    }
  },
  "cells": [
    {
      "cell_type": "code",
      "execution_count": null,
      "metadata": {
        "colab": {
          "base_uri": "https://localhost:8080/"
        },
        "id": "3itI0GRy2JNw",
        "outputId": "24fe84f6-dc12-4b0f-92a7-c326a7328392"
      },
      "outputs": [
        {
          "output_type": "stream",
          "name": "stdout",
          "text": [
            "75.0㎠\n"
          ]
        }
      ],
      "source": [
        "upper_length = 10\n",
        "lower_length = 20\n",
        "height = 5\n",
        "\n",
        "surface_area = (upper_length + lower_length) * height / 2\n",
        "print(str(surface_area) + \"cm²\")"
      ]
    }
  ]
}